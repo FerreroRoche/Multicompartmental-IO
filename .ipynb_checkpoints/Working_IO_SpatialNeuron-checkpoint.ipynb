{
 "cells": [
  {
   "cell_type": "code",
   "execution_count": 2,
   "metadata": {
    "colab": {
     "base_uri": "https://localhost:8080/",
     "height": 433
    },
    "colab_type": "code",
    "id": "IrNlzrmM3TK7",
    "outputId": "9c376985-7b84-4482-f3b2-01ac830fb1bc"
   },
   "outputs": [
    {
     "name": "stdout",
     "output_type": "stream",
     "text": [
      "Requirement already satisfied: brian2 in c:\\users\\roche\\anaconda3\\lib\\site-packages (2.3.0.2)\n",
      "Requirement already satisfied: jinja2>=2.7 in c:\\users\\roche\\anaconda3\\lib\\site-packages (from brian2) (2.11.1)\n",
      "Requirement already satisfied: py-cpuinfo; platform_system == \"Windows\" in c:\\users\\roche\\anaconda3\\lib\\site-packages (from brian2) (5.0.0)\n",
      "Requirement already satisfied: future in c:\\users\\roche\\anaconda3\\lib\\site-packages (from brian2) (0.18.2)\n",
      "Requirement already satisfied: pyparsing in c:\\users\\roche\\anaconda3\\lib\\site-packages (from brian2) (2.4.6)\n",
      "Requirement already satisfied: sympy>=1.2 in c:\\users\\roche\\anaconda3\\lib\\site-packages (from brian2) (1.5.1)\n",
      "Requirement already satisfied: numpy>=1.10 in c:\\users\\roche\\anaconda3\\lib\\site-packages (from brian2) (1.18.1)\n",
      "Requirement already satisfied: setuptools>=24 in c:\\users\\roche\\anaconda3\\lib\\site-packages (from brian2) (45.2.0.post20200210)\n",
      "Requirement already satisfied: cython>=0.29 in c:\\users\\roche\\anaconda3\\lib\\site-packages (from brian2) (0.29.15)\n",
      "Requirement already satisfied: MarkupSafe>=0.23 in c:\\users\\roche\\anaconda3\\lib\\site-packages (from jinja2>=2.7->brian2) (1.1.1)\n",
      "Requirement already satisfied: mpmath>=0.19 in c:\\users\\roche\\anaconda3\\lib\\site-packages (from sympy>=1.2->brian2) (1.1.0)\n"
     ]
    }
   ],
   "source": [
    "# prepare the runtime workspace: install, import, download\n",
    "!pip install brian2\n",
    "\n"
   ]
  },
  {
   "cell_type": "code",
   "execution_count": 3,
   "metadata": {
    "colab": {
     "base_uri": "https://localhost:8080/",
     "height": 323
    },
    "colab_type": "code",
    "id": "XU-edWfi38nK",
    "outputId": "f9f472dc-729b-4265-d106-00d79551c25b"
   },
   "outputs": [
    {
     "name": "stdout",
     "output_type": "stream",
     "text": [
      "Requirement already satisfied: brian2tools in c:\\users\\roche\\anaconda3\\lib\\site-packages (0.2.1.1)\n",
      "Requirement already satisfied: matplotlib>=1.3.1 in c:\\users\\roche\\anaconda3\\lib\\site-packages (from brian2tools) (3.1.3)\n",
      "Requirement already satisfied: pylems>=0.4.9 in c:\\users\\roche\\anaconda3\\lib\\site-packages (from brian2tools) (0.4.9.3)\n",
      "Requirement already satisfied: setuptools-scm in c:\\users\\roche\\anaconda3\\lib\\site-packages (from brian2tools) (3.5.0)\n",
      "Requirement already satisfied: setuptools in c:\\users\\roche\\anaconda3\\lib\\site-packages (from brian2tools) (45.2.0.post20200210)\n",
      "Requirement already satisfied: brian2>=2.0 in c:\\users\\roche\\anaconda3\\lib\\site-packages (from brian2tools) (2.3.0.2)\n",
      "Requirement already satisfied: numpy>=1.11 in c:\\users\\roche\\anaconda3\\lib\\site-packages (from matplotlib>=1.3.1->brian2tools) (1.18.1)\n",
      "Requirement already satisfied: kiwisolver>=1.0.1 in c:\\users\\roche\\anaconda3\\lib\\site-packages (from matplotlib>=1.3.1->brian2tools) (1.1.0)\n",
      "Requirement already satisfied: cycler>=0.10 in c:\\users\\roche\\anaconda3\\lib\\site-packages (from matplotlib>=1.3.1->brian2tools) (0.10.0)\n",
      "Requirement already satisfied: python-dateutil>=2.1 in c:\\users\\roche\\anaconda3\\lib\\site-packages (from matplotlib>=1.3.1->brian2tools) (2.8.1)\n",
      "Requirement already satisfied: pyparsing!=2.0.4,!=2.1.2,!=2.1.6,>=2.0.1 in c:\\users\\roche\\anaconda3\\lib\\site-packages (from matplotlib>=1.3.1->brian2tools) (2.4.6)\n",
      "Requirement already satisfied: cython>=0.29 in c:\\users\\roche\\anaconda3\\lib\\site-packages (from brian2>=2.0->brian2tools) (0.29.15)\n",
      "Requirement already satisfied: sympy>=1.2 in c:\\users\\roche\\anaconda3\\lib\\site-packages (from brian2>=2.0->brian2tools) (1.5.1)\n",
      "Requirement already satisfied: future in c:\\users\\roche\\anaconda3\\lib\\site-packages (from brian2>=2.0->brian2tools) (0.18.2)\n",
      "Requirement already satisfied: py-cpuinfo; platform_system == \"Windows\" in c:\\users\\roche\\anaconda3\\lib\\site-packages (from brian2>=2.0->brian2tools) (5.0.0)\n",
      "Requirement already satisfied: jinja2>=2.7 in c:\\users\\roche\\anaconda3\\lib\\site-packages (from brian2>=2.0->brian2tools) (2.11.1)\n",
      "Requirement already satisfied: six in c:\\users\\roche\\anaconda3\\lib\\site-packages (from cycler>=0.10->matplotlib>=1.3.1->brian2tools) (1.14.0)\n",
      "Requirement already satisfied: mpmath>=0.19 in c:\\users\\roche\\anaconda3\\lib\\site-packages (from sympy>=1.2->brian2>=2.0->brian2tools) (1.1.0)\n",
      "Requirement already satisfied: MarkupSafe>=0.23 in c:\\users\\roche\\anaconda3\\lib\\site-packages (from jinja2>=2.7->brian2>=2.0->brian2tools) (1.1.1)\n"
     ]
    }
   ],
   "source": [
    "!pip install brian2tools"
   ]
  },
  {
   "cell_type": "markdown",
   "metadata": {
    "colab_type": "text",
    "id": "CGEbbbfo4DsU"
   },
   "source": [
    "# Restart Runtime!"
   ]
  },
  {
   "cell_type": "code",
   "execution_count": 4,
   "metadata": {
    "colab": {},
    "colab_type": "code",
    "id": "el4WjsLX3_xI"
   },
   "outputs": [],
   "source": [
    "from brian2tools import *\n",
    "\n",
    "from IPython.display import display\n",
    "import brian2.numpy_ as np # the numpy that comes bundled with it\n",
    "from ipywidgets import interact, interactive # for some neat interactions\n",
    "from IPython.display import display \n",
    "import ipywidgets as widgets\n",
    "import matplotlib.pyplot as plt # for neat plots\n",
    "import matplotlib.gridspec as gridspec\n",
    "\n",
    "import time # for time basis conversions"
   ]
  },
  {
   "cell_type": "code",
   "execution_count": 5,
   "metadata": {
    "colab": {},
    "colab_type": "code",
    "id": "-OtxUA5D3gUY"
   },
   "outputs": [],
   "source": [
    "from brian2 import *\n",
    "def cell_morpho(num_dendrites,som_diameter, den_diameter, den_length, axn_diameter, axn_length):\n",
    "    name_compartments = [\"\" for x in range(num_dendrites+1)]\n",
    "    name_compartments[0] = 'IO_axon'\n",
    "    for i in range(1,num_dendrites+1):\n",
    "        name_compartments[i] = 'IO_den'+str(i)\n",
    "\n",
    "    IO_morpho = Soma(diameter=som_diameter)\n",
    "    IO_morpho[name_compartments[0]] = Cylinder(length=axn_length, diameter=axn_diameter, n=1)\n",
    "    for ii in range(1,num_dendrites+1):\n",
    "        IO_morpho[name_compartments[ii]] = Cylinder(length=den_length, diameter=den_diameter, n=1)\n",
    "    return IO_morpho\n",
    "\n",
    "def IO_equations():\n",
    "\teqs_IO_V = '''\n",
    "\tIm = (-(I_l + I_Na + I_Ca_l + I_K_dr + I_h + I_K_s + I_Ca_h + I_K_Ca + I_c + I_K_a + I_Na_a)) : metre**-2*amp\n",
    "\tI_c : metre**-2*amp\n",
    "\tIapp : amp (point current)\n",
    "\t'''\n",
    "\teqs_IO_Ca = '''\n",
    "\tdCa/dt = (-3*I_Ca_h*((uamp / cm**2)**-1)*mM - 0.075*Ca)/ms : mM\n",
    "\t'''\n",
    "\teqs_IO_Isom = '''\n",
    "\tI_l    = g_l*(v-V_l)              : metre**-2*amp\n",
    "\tI_Na    = g_Na*m_inf**3*h*(v-V_Na)  : metre**-2*amp\n",
    "\tI_Ca_l  = g_Ca_l*k*k*k*l*(v-V_Ca)   : metre**-2*amp\n",
    "\tI_K_dr  = g_Kdr*n*n*n*n*(v-V_K)     : metre**-2*amp\n",
    "\tI_h     = g_h*q*(v-V_h)             : metre**-2*amp\n",
    "\tI_K_s   = g_K_s*(x_s**4)*(v-V_K)    : metre**-2*amp\n",
    "\t'''\n",
    "\teqs_IO_Iden = '''\n",
    "\tI_Ca_h  = g_Ca_h*r*r*(v-V_Ca)       : metre**-2*amp\n",
    "\tI_K_Ca  = g_K_Ca*s*(v-V_K)          : metre**-2*amp\n",
    "\t'''\n",
    "\teqs_IO_Iax = '''\n",
    "\tI_K_a  = g_K_a *x_a**4*(v-V_K)      : metre**-2*amp\n",
    "\tI_Na_a = g_Na_a*m_a**3*h_a*(v-V_Na) : metre**-2*amp\n",
    "\t'''\n",
    "\teqs_IO_activation = '''\n",
    "\tdh/dt = (h_inf - h)/tau_h : 1\n",
    "\tdk/dt = (k_inf - k)/tau_k : 1\n",
    "\tdl/dt = (l_inf - l)/tau_l : 1\n",
    "\tdn/dt = (n_inf - n)/tau_n : 1\n",
    "\tdq/dt = (q_inf - q)/tau_q : 1\n",
    "\tdr/dt = (r_inf - r)/tau_r : 1\n",
    "\tds/dt = (s_inf - s)/tau_s : 1\n",
    "\tm_a = m_inf_a : 1\n",
    "\tdh_a/dt = (h_inf_a - h_a)/tau_h_a : 1\n",
    "\tdx_a/dt = (x_inf_a - x_a)/tau_x_a : 1\n",
    "\tdx_s/dt = (x_inf_s - x_s)/tau_x_s : 1\n",
    "\t'''\n",
    "\teqs_IO_inf = '''\n",
    "\tm_inf   = alpha_m /(alpha_m+beta_m)        : 1\n",
    "\th_inf   = alpha_h/(alpha_h+beta_h)         : 1\n",
    "\tk_inf   = 1/(1+e**(-(v/mvolt+61)/4.2))    : 1\n",
    "\tl_inf   = 1/(1+e**((v/mvolt+85.5)/8.5))   : 1\n",
    "\tn_inf   = alpha_n/(alpha_n+beta_n)         : 1\n",
    "\tq_inf   = 1/(1+e**((v/mvolt+75)/(5.5)))   : 1\n",
    "\tr_inf   = alpha_r/(alpha_r + beta_r)       : 1\n",
    "\ts_inf   = alpha_s/(alpha_s+beta_s)         : 1\n",
    "\tm_inf_a = 1/(1+(e**((-30-v/mvolt)/ 5.5))) : 1\n",
    "\th_inf_a = 1/(1+(e**((-60-v/mvolt)/-5.8))) : 1\n",
    "\tx_inf_a = alpha_x_a/(alpha_x_a+beta_x_a)   : 1\n",
    "\tx_inf_s = alpha_x_s/(alpha_x_s + beta_x_s) : 1\n",
    "\t'''\n",
    "\teqs_IO_tau = '''\n",
    "\ttau_h   = 170*msecond/(alpha_h+beta_h)                                          : second\n",
    "\ttau_k   = 5*msecond                                                             : second\n",
    "\ttau_l   = 1*msecond*(35+(20*e**((v/mvolt+160)/30/(1+e**((v/mvolt+84)/7.3))))) : second\n",
    "\ttau_n   = 5*msecond/(alpha_n+beta_n)                                            : second\n",
    "\ttau_q   = 1*msecond/(e**((-0.086*v/mvolt-14.6))+e**((0.07*v/mvolt-1.87)))     : second\n",
    "\ttau_r   = 5*msecond/(alpha_r + beta_r)                                          : second\n",
    "\ttau_s   = 1*msecond/(alpha_s + beta_s)                                          : second\n",
    "\ttau_h_a = 1.5*msecond*e**((-40-v/mvolt)/33)                                    : second\n",
    "\ttau_x_a = 1*msecond/(alpha_x_a + beta_x_a)                                      : second\n",
    "\ttau_x_s = 1*msecond/(alpha_x_s + beta_x_s)                                      : second\n",
    "\t'''\n",
    "\teqs_IO_alpha = '''\n",
    "\talpha_m   = (0.1*(v/mvolt + 41))/(1-e**(-(v/mvolt+41)/10)) : 1\n",
    "\talpha_h   = 5.0*e**(-(v/mvolt+60)/15) : 1\n",
    "\talpha_n   = (v/mvolt + 41)/(1-e**(-(v/mvolt+41)/10)) : 1\n",
    "\talpha_r   = 1.7/(1+e**(-(v/mvolt - 5)/13.9)) : 1\n",
    "\talpha_s   = ((0.00002*Ca/mM)*int((0.00002*Ca/mM)<0.01) + 0.01*int((0.00002*Ca/mM)>=0.01)) : 1\n",
    "\talpha_x_a = 0.13*(v/mvolt + 25)/(1-e**(-(v/mvolt+25)/10)) : 1\n",
    "\talpha_x_s = 0.13*(v/mvolt + 25)/(1-e**(-(v/mvolt+25)/10)) : 1\n",
    "\t'''\n",
    "\n",
    "\teqs_IO_beta = '''\n",
    "\tbeta_m = 9.0*e**(-(v/mvolt+60)/20)                        : 1\n",
    "\tbeta_h = (v/mvolt+50)/(1-e**(-(v/mvolt+50)/10))          : 1\n",
    "\tbeta_n = 12.5*e**(-(v/mvolt+51)/80)                       : 1\n",
    "\tbeta_r = 0.02*(v/mvolt + 8.5)/(e**((v/mvolt + 8.5)/5)-1) : 1\n",
    "\tbeta_s = 0.015                                             : 1\n",
    "\tbeta_x_a  = 1.69*e**(-0.0125*(v/mvolt + 35))              : 1\n",
    "\tbeta_x_s  = 1.69*e**(-0.0125*(v/mvolt+ 35))               : 1\n",
    "\t'''\n",
    "\n",
    "\teqs_vector = '''\n",
    "\tV_Na : volt\n",
    "\tV_K  : volt\n",
    "\tV_Ca : volt\n",
    "\tV_l  : volt\n",
    "\tV_h  : volt\n",
    "\tg_Na   : siemens/meter**2\n",
    "\tg_Kdr  : siemens/meter**2\n",
    "\tg_Ca_l : siemens/meter**2\n",
    "\tg_h    : siemens/meter**2\n",
    "\tg_Ca_h : siemens/meter**2\n",
    "\tg_K_Ca : siemens/meter**2\n",
    "\tg_l : siemens/meter**2\n",
    "\tg_Na_a   : siemens/meter**2\n",
    "\tg_K_a   : siemens/meter**2\n",
    "\tg_K_s   : siemens/meter**2\n",
    "\t'''\n",
    "\n",
    "\teqs_IO = eqs_IO_beta\n",
    "\teqs_IO += eqs_IO_alpha\n",
    "\teqs_IO += eqs_IO_tau\n",
    "\teqs_IO += eqs_IO_inf\n",
    "\teqs_IO += eqs_IO_activation\n",
    "\teqs_IO += eqs_IO_Iax\n",
    "\teqs_IO += eqs_IO_Iden\n",
    "\teqs_IO += eqs_IO_Isom\n",
    "\teqs_IO += eqs_IO_Ca\n",
    "\teqs_IO += eqs_IO_V\n",
    "\teqs_IO += eqs_vector\n",
    "\treturn eqs_IO\n",
    "\n",
    "\n",
    "def cell_values(IO):\n",
    "\t### Dendrites\n",
    "\tIO.V_Na = 0.0*mvolt\n",
    "\tIO.V_K = -75*mvolt\n",
    "\tIO.V_Ca = 120*mvolt\n",
    "\tIO.V_l = 10*mvolt \n",
    "\tIO.V_h = 0.0*mvolt \n",
    "\tIO.g_Na = 0.0*mS/cm**2 \n",
    "\tIO.g_Ca_l =  0.0*mS/cm**2\n",
    "\tIO.g_Kdr = 0.0*mS/cm**2\n",
    "\tIO.g_K_s= 0.0*mS/cm**2\n",
    "\tIO.g_h = 0.0*mS/cm**2 \n",
    "\tIO.g_Ca_h = 4.5*mS/cm**2 #4.5\n",
    "\tIO.g_K_Ca = 35*mS/cm**2\n",
    "\tIO.g_Na_a = 0.0*mS/cm**2\n",
    "\tIO.g_K_a = 0.0*mS/cm**2\n",
    "\tIO.g_l = 0.016*mS/cm**2\n",
    "\t### Soma\n",
    "\tIO.main.V_Na = 55*mvolt\n",
    "\tIO.main.V_K = -75*mvolt\n",
    "\tIO.main.V_Ca = 120*mvolt\n",
    "\tIO.main.V_l = 10*mvolt \n",
    "\tIO.main.V_h = -43*mvolt \n",
    "\tIO.main.g_Na = 70*mS/cm**2 #150\n",
    "\tIO.main.g_Ca_l =  2.5*mS/cm**2\n",
    "\tIO.main.g_Kdr = 9.0*mS/cm**2\n",
    "\tIO.main.g_h = 1.5*mS/cm**2 #0.12\n",
    "\tIO.main.g_K_s = 5.0*mS/cm**2\n",
    "\tIO.main.g_Ca_h = 0.0*mS/cm**2 #4.5\n",
    "\tIO.main.g_K_Ca = 0.0*mS/cm**2\n",
    "\tIO.main.g_Na_a = 0.0*mS/cm**2\n",
    "\tIO.main.g_K_a = 0.0*mS/cm**2\n",
    "\tIO.main.g_l = 0.016*mS/cm**2\n",
    "\t### Axon\n",
    "\tIO.IO_axon.V_Na = 55*mvolt\n",
    "\tIO.IO_axon.V_K = -75*mvolt\n",
    "\tIO.IO_axon.V_Ca = 0.0*mvolt\n",
    "\tIO.IO_axon.V_l = 10*mvolt \n",
    "\tIO.IO_axon.V_h = 0.0*mvolt \n",
    "\tIO.IO_axon.g_Na = 0.0*mS/cm**2 \n",
    "\tIO.IO_axon.g_Ca_l =  0.0*mS/cm**2\n",
    "\tIO.IO_axon.g_Kdr = 0.0*mS/cm**2\n",
    "\tIO.IO_axon.g_K_s = 0.0*mS/cm**2\n",
    "\tIO.IO_axon.g_h = 0.0*mS/cm**2 \n",
    "\tIO.IO_axon.g_Ca_h = 0.0*mS/cm**2 \n",
    "\tIO.IO_axon.g_K_Ca = 0.0*mS/cm**2\n",
    "\tIO.IO_axon.g_Na_a = 120*mS/cm**2\n",
    "\tIO.IO_axon.g_K_a = 10*mS/cm**2\n",
    "\tIO.IO_axon.g_l = 0.016*mS/cm**2\n",
    "\treturn IO\n",
    "\n",
    "def plot_membrane_potentials_IO(IO_Statemon,num_dendrites):\n",
    "\tfigure(figsize=(14, 10), dpi= 80, facecolor='w', edgecolor='k')\n",
    "\tplt.subplot(3, 1, 1)\n",
    "\tfor ii in range(0,1):\n",
    "\t  plot(IO_Statemon.t/ms,IO_Statemon.v[ii]/(mvolt),label='Soma')\n",
    "\ttitle('Soma Voltage')\n",
    "\t# xlabel('Time [ms]')\n",
    "\tylabel('v [mV]')\n",
    "\tylim([-100,100])\n",
    "\tplt.subplot(3, 1, 2)\n",
    "\tfor ii in range(2,num_dendrites+2):\n",
    "\t  plot(IO_Statemon.t/ms,IO_Statemon.v[ii]/(mvolt),label='Dendrite'+str(ii-1))\n",
    "\ttitle('Dendrite Voltage')\n",
    "\t# xlabel('Time [ms]')\n",
    "\tylabel('v [mV]')\n",
    "\tylim([-100,100])\n",
    "\tplt.subplot(3, 1, 3)\n",
    "\tfor ii in range(1,2):\n",
    "\t  plot(IO_Statemon.t/ms,IO_Statemon.v[ii]/(mvolt),label='Axon')\n",
    "\ttitle('Axon Voltage')\n",
    "\txlabel('Time [ms]')\n",
    "\tylabel('v [mV]')\n",
    "\tylim([-100,100])\n",
    "\tlegend()\n",
    "\tshow()"
   ]
  },
  {
   "cell_type": "code",
   "execution_count": 6,
   "metadata": {
    "colab": {
     "base_uri": "https://localhost:8080/",
     "height": 323
    },
    "colab_type": "code",
    "id": "cMYJRsaE3rcC",
    "outputId": "bd284ea4-9ea3-4e4d-9ba1-efda4d7982d5"
   },
   "outputs": [
    {
     "data": {
      "text/plain": [
       "<matplotlib.axes._subplots.AxesSubplot at 0x29b29291b88>"
      ]
     },
     "execution_count": 6,
     "metadata": {},
     "output_type": "execute_result"
    },
    {
     "data": {
      "image/png": "[encoded data removed]",
      "text/plain": [
       "<Figure size 1120x320 with 2 Axes>"
      ]
     },
     "metadata": {},
     "output_type": "display_data"
    }
   ],
   "source": [
    "start_scope()\n",
    "\n",
    "##### Dimensions of the compartments \n",
    "som_diameter = 30*um #Soma\n",
    "den_diameter = 2*um #Dendrites\n",
    "den_length = 100*um #Dendrites\n",
    "axn_diameter = 1*um #Axon\n",
    "axn_length = 1000*um #Axon\n",
    "\n",
    "##### Choose the number of dendrites\n",
    "num_dendrites = 8\n",
    "\n",
    "#### Create Morphology\n",
    "IO_morpho = cell_morpho(num_dendrites,som_diameter, den_diameter, den_length, axn_diameter, axn_length)\n",
    "\n",
    "IO_morpho_new = IO_morpho.generate_coordinates()\n",
    "\n",
    "figure(figsize=(14, 4), dpi= 80, facecolor='w', edgecolor='k')\n",
    "plt.subplot(1, 2, 1)\n",
    "brian_plot(IO_morpho) \n",
    "plt.subplot(1, 2, 2)\n",
    "plot_morphology(IO_morpho_new, plot_3d=False)"
   ]
  },
  {
   "cell_type": "code",
   "execution_count": 7,
   "metadata": {
    "colab": {
     "base_uri": "https://localhost:8080/",
     "height": 548
    },
    "colab_type": "code",
    "id": "EBaTvJcs3xeq",
    "outputId": "181991da-84ea-4240-e292-9507cf49c7d8"
   },
   "outputs": [
    {
     "data": {
      "image/png": "[encoded data removed]",
      "text/plain": [
       "<Figure size 1120x640 with 6 Axes>"
      ]
     },
     "metadata": {},
     "output_type": "display_data"
    }
   ],
   "source": [
    "IO_mor = [[]]*6\n",
    "for i in range(0,6):\n",
    "  IO_mor[i] = IO_morpho.generate_coordinates(section_randomness=30)\n",
    "\n",
    "figure(figsize=(14, 8), dpi= 80, facecolor='w', edgecolor='k')\n",
    "for i in range(0,6):\n",
    "  plt.subplot(2, 3, i+1)\n",
    "  plot_morphology(IO_mor[i], plot_3d=False)"
   ]
  },
  {
   "cell_type": "markdown",
   "metadata": {
    "colab_type": "text",
    "id": "XGAZTkAh6vC-"
   },
   "source": [
    "# THIS PART TAKES A VERY LONG TIME"
   ]
  },
  {
   "cell_type": "code",
   "execution_count": null,
   "metadata": {
    "colab": {
     "base_uri": "https://localhost:8080/",
     "height": 34
    },
    "colab_type": "code",
    "id": "zdGv7szs3zBG",
    "outputId": "baad46f1-094a-4050-bb4f-2de21e710b70"
   },
   "outputs": [],
   "source": [
    "dt = 0.025*ms\n",
    "dt_rec = 0.25*ms\n",
    "\n",
    "eqs_IO = IO_equations()\n",
    "\n",
    "IO = SpatialNeuron(morphology=IO_morpho, model = eqs_IO, Cm=1 *uF*cm**-2 , Ri=100.0*ohm*cm, method=\"exponential_euler\", name = 'SchweighoferOlive', dt=dt)\n",
    "IO_Statemon = StateMonitor(IO, variables = ['Im', 'v', 'Ca', 'Iapp'], record = True, dt=dt_rec)\n",
    "store('IO_setup')\n",
    "print('State Stored as IO_setup')"
   ]
  },
  {
   "cell_type": "markdown",
   "metadata": {
    "colab_type": "text",
    "id": "liAT8J7O62vk"
   },
   "source": [
    "Now you can restore the IO as many times as you want"
   ]
  },
  {
   "cell_type": "code",
   "execution_count": null,
   "metadata": {
    "colab": {
     "base_uri": "https://localhost:8080/",
     "height": 685
    },
    "colab_type": "code",
    "id": "pqGhWM6a4MVq",
    "outputId": "12519f54-e88c-4a99-9d9e-2ebf2793fc6c"
   },
   "outputs": [],
   "source": [
    "# Conduct a 1D Ca-T type parameter space exploration \n",
    "\n",
    "# plot a waterfall that goes from non oscillating to oscillating\n",
    "restore('IO_setup')\n",
    "\n",
    "IO = cell_values(IO)\n",
    "applied_current = 0.15*nA\n",
    "IO.v = -55.0*mV\n",
    "IO.Iapp = 0*uA\n",
    "\n",
    "runtime = 10000*ms\n",
    "\n",
    "responses = [0.5, 1.4, 1.81, 2.9] #Non-spiking, oscillatory, both spiking and oscillatory, spiking\n",
    "for rr in range(0,size(responses)):\n",
    "  IO.main.g_Ca_l =  responses[rr]*mS/cm**2\n",
    "  run(runtime)\n",
    "plot_membrane_potentials_IO(IO_Statemon,num_dendrites)"
   ]
  },
  {
   "cell_type": "code",
   "execution_count": null,
   "metadata": {
    "colab": {},
    "colab_type": "code",
    "id": "Jn7ZTYHD4VdG"
   },
   "outputs": [],
   "source": []
  },
  {
   "cell_type": "code",
   "execution_count": null,
   "metadata": {},
   "outputs": [],
   "source": []
  },
  {
   "cell_type": "code",
   "execution_count": null,
   "metadata": {},
   "outputs": [],
   "source": []
  },
  {
   "cell_type": "code",
   "execution_count": null,
   "metadata": {},
   "outputs": [],
   "source": []
  }
 ],
 "metadata": {
  "colab": {
   "collapsed_sections": [],
   "name": "Copy of Working_IO_SpatialNeuron.ipynb",
   "provenance": []
  },
  "kernelspec": {
   "display_name": "Python 3",
   "language": "python",
   "name": "python3"
  },
  "language_info": {
   "codemirror_mode": {
    "name": "ipython",
    "version": 3
   },
   "file_extension": ".py",
   "mimetype": "text/x-python",
   "name": "python",
   "nbconvert_exporter": "python",
   "pygments_lexer": "ipython3",
   "version": "3.7.6"
  }
 },
 "nbformat": 4,
 "nbformat_minor": 1
}
